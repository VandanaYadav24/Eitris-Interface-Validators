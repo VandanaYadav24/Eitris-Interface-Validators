{
 "cells": [
  {
   "cell_type": "code",
   "execution_count": 1,
   "id": "aab374d9",
   "metadata": {},
   "outputs": [],
   "source": [
    "import numpy as np\n",
    "import pandas as pd\n",
    "import matplotlib.pyplot as plt\n",
    "from scipy.sparse import csr_matrix\n",
    "from sklearn.metrics.pairwise import cosine_similarity\n",
    "from sklearn.neighbors import NearestNeighbors"
   ]
  },
  {
   "cell_type": "markdown",
   "id": "e1d97322-f933-4c44-8893-78104be25d7b",
   "metadata": {},
   "source": [
    "Dataset:\n",
    "\n",
    "MIND (**MIND-small**), by randomly sampling 50,000 users and their behavior logs.\n",
    "Only training and validation sets are contained in the MIND-small dataset."
   ]
  },
  {
   "cell_type": "markdown",
   "id": "e6269fbc-0e37-48da-9f4f-b6fad7d2e5de",
   "metadata": {},
   "source": [
    "### Load news.tsv \n",
    "\n",
    "detailed information of news articles involved in the behaviors.tsv file\n",
    "\n",
    "#### Columns\n",
    "* News ID \n",
    "* Category \n",
    "* SubCategory\n",
    "* Title\n",
    "* Abstract\n",
    "* URL\n",
    "* Title Entities (entities contained in the title of this news)\n",
    "* Abstract Entities (entites contained in the abstract of this news)\n",
    "\n",
    "\n",
    "<strong>Title Entities</strong> | [{\"Label\": \"PGA Tour\", \"Type\": \"O\", \"WikidataId\": \"Q910409\", \"Confidence\": 1.0, \"OccurrenceOffsets\": [0], \"SurfaceForms\": [\"PGA Tour\"]}]\t\n",
    "\n",
    "<strong>Abstract Entites</strong> | [{\"Label\": \"PGA Tour\", \"Type\": \"O\", \"WikidataId\": \"Q910409\", \"Confidence\": 1.0, \"OccurrenceOffsets\": [35], \"SurfaceForms\": [\"PGA Tour\"]}]\n",
    "\n",
    "The descriptions of the dictionary keys in the \"Entities\" column are listed as follows:\n",
    "Keys | Description\n",
    "------------- | -------------\n",
    "Label | The entity name in the Wikidata knwoledge graph\n",
    "Type | The type of this entity in Wikidata\n",
    "WikidataId | The entity ID in Wikidata\n",
    "Confidence | The confidence of entity linking\n",
    "OccurrenceOffsets | The character-level entity offset in the text of title or abstract\n",
    "SurfaceForms | The raw entity names in the original text"
   ]
  },
  {
   "cell_type": "code",
   "execution_count": 2,
   "id": "095c87fd",
   "metadata": {},
   "outputs": [
    {
     "name": "stdout",
     "output_type": "stream",
     "text": [
      "Shape of news data:  (51282, 8)\n"
     ]
    },
    {
     "data": {
      "text/html": [
       "<div>\n",
       "<style scoped>\n",
       "    .dataframe tbody tr th:only-of-type {\n",
       "        vertical-align: middle;\n",
       "    }\n",
       "\n",
       "    .dataframe tbody tr th {\n",
       "        vertical-align: top;\n",
       "    }\n",
       "\n",
       "    .dataframe thead th {\n",
       "        text-align: right;\n",
       "    }\n",
       "</style>\n",
       "<table border=\"1\" class=\"dataframe\">\n",
       "  <thead>\n",
       "    <tr style=\"text-align: right;\">\n",
       "      <th></th>\n",
       "      <th>0</th>\n",
       "      <th>1</th>\n",
       "      <th>2</th>\n",
       "      <th>3</th>\n",
       "      <th>4</th>\n",
       "      <th>5</th>\n",
       "      <th>6</th>\n",
       "      <th>7</th>\n",
       "    </tr>\n",
       "  </thead>\n",
       "  <tbody>\n",
       "    <tr>\n",
       "      <th>0</th>\n",
       "      <td>N55528</td>\n",
       "      <td>lifestyle</td>\n",
       "      <td>lifestyleroyals</td>\n",
       "      <td>The Brands Queen Elizabeth, Prince Charles, an...</td>\n",
       "      <td>Shop the notebooks, jackets, and more that the...</td>\n",
       "      <td>https://assets.msn.com/labs/mind/AAGH0ET.html</td>\n",
       "      <td>[{\"Label\": \"Prince Philip, Duke of Edinburgh\",...</td>\n",
       "      <td>[]</td>\n",
       "    </tr>\n",
       "    <tr>\n",
       "      <th>1</th>\n",
       "      <td>N19639</td>\n",
       "      <td>health</td>\n",
       "      <td>weightloss</td>\n",
       "      <td>50 Worst Habits For Belly Fat</td>\n",
       "      <td>These seemingly harmless habits are holding yo...</td>\n",
       "      <td>https://assets.msn.com/labs/mind/AAB19MK.html</td>\n",
       "      <td>[{\"Label\": \"Adipose tissue\", \"Type\": \"C\", \"Wik...</td>\n",
       "      <td>[{\"Label\": \"Adipose tissue\", \"Type\": \"C\", \"Wik...</td>\n",
       "    </tr>\n",
       "    <tr>\n",
       "      <th>2</th>\n",
       "      <td>N61837</td>\n",
       "      <td>news</td>\n",
       "      <td>newsworld</td>\n",
       "      <td>The Cost of Trump's Aid Freeze in the Trenches...</td>\n",
       "      <td>Lt. Ivan Molchanets peeked over a parapet of s...</td>\n",
       "      <td>https://assets.msn.com/labs/mind/AAJgNsz.html</td>\n",
       "      <td>[]</td>\n",
       "      <td>[{\"Label\": \"Ukraine\", \"Type\": \"G\", \"WikidataId...</td>\n",
       "    </tr>\n",
       "  </tbody>\n",
       "</table>\n",
       "</div>"
      ],
      "text/plain": [
       "        0          1                2  \\\n",
       "0  N55528  lifestyle  lifestyleroyals   \n",
       "1  N19639     health       weightloss   \n",
       "2  N61837       news        newsworld   \n",
       "\n",
       "                                                   3  \\\n",
       "0  The Brands Queen Elizabeth, Prince Charles, an...   \n",
       "1                      50 Worst Habits For Belly Fat   \n",
       "2  The Cost of Trump's Aid Freeze in the Trenches...   \n",
       "\n",
       "                                                   4  \\\n",
       "0  Shop the notebooks, jackets, and more that the...   \n",
       "1  These seemingly harmless habits are holding yo...   \n",
       "2  Lt. Ivan Molchanets peeked over a parapet of s...   \n",
       "\n",
       "                                               5  \\\n",
       "0  https://assets.msn.com/labs/mind/AAGH0ET.html   \n",
       "1  https://assets.msn.com/labs/mind/AAB19MK.html   \n",
       "2  https://assets.msn.com/labs/mind/AAJgNsz.html   \n",
       "\n",
       "                                                   6  \\\n",
       "0  [{\"Label\": \"Prince Philip, Duke of Edinburgh\",...   \n",
       "1  [{\"Label\": \"Adipose tissue\", \"Type\": \"C\", \"Wik...   \n",
       "2                                                 []   \n",
       "\n",
       "                                                   7  \n",
       "0                                                 []  \n",
       "1  [{\"Label\": \"Adipose tissue\", \"Type\": \"C\", \"Wik...  \n",
       "2  [{\"Label\": \"Ukraine\", \"Type\": \"G\", \"WikidataId...  "
      ]
     },
     "execution_count": 2,
     "metadata": {},
     "output_type": "execute_result"
    }
   ],
   "source": [
    "news_raw_data = pd.read_csv('Dataset/MINDsmall_train/news.tsv',sep='\\t', header=None)\n",
    "print(\"Shape of news data: \",news_raw_data.shape)\n",
    "news_raw_data.head(3)"
   ]
  },
  {
   "cell_type": "code",
   "execution_count": 3,
   "id": "b9bc2119-4b95-4cd2-8743-8c872a422f61",
   "metadata": {},
   "outputs": [
    {
     "data": {
      "text/html": [
       "<div>\n",
       "<style scoped>\n",
       "    .dataframe tbody tr th:only-of-type {\n",
       "        vertical-align: middle;\n",
       "    }\n",
       "\n",
       "    .dataframe tbody tr th {\n",
       "        vertical-align: top;\n",
       "    }\n",
       "\n",
       "    .dataframe thead th {\n",
       "        text-align: right;\n",
       "    }\n",
       "</style>\n",
       "<table border=\"1\" class=\"dataframe\">\n",
       "  <thead>\n",
       "    <tr style=\"text-align: right;\">\n",
       "      <th></th>\n",
       "      <th>News ID</th>\n",
       "      <th>Category</th>\n",
       "      <th>SubCategory</th>\n",
       "      <th>Title</th>\n",
       "      <th>Abstract</th>\n",
       "      <th>URL</th>\n",
       "      <th>Title Entities</th>\n",
       "      <th>Abstract Entities</th>\n",
       "    </tr>\n",
       "  </thead>\n",
       "  <tbody>\n",
       "    <tr>\n",
       "      <th>0</th>\n",
       "      <td>N55528</td>\n",
       "      <td>lifestyle</td>\n",
       "      <td>lifestyleroyals</td>\n",
       "      <td>The Brands Queen Elizabeth, Prince Charles, an...</td>\n",
       "      <td>Shop the notebooks, jackets, and more that the...</td>\n",
       "      <td>https://assets.msn.com/labs/mind/AAGH0ET.html</td>\n",
       "      <td>[{\"Label\": \"Prince Philip, Duke of Edinburgh\",...</td>\n",
       "      <td>[]</td>\n",
       "    </tr>\n",
       "    <tr>\n",
       "      <th>1</th>\n",
       "      <td>N19639</td>\n",
       "      <td>health</td>\n",
       "      <td>weightloss</td>\n",
       "      <td>50 Worst Habits For Belly Fat</td>\n",
       "      <td>These seemingly harmless habits are holding yo...</td>\n",
       "      <td>https://assets.msn.com/labs/mind/AAB19MK.html</td>\n",
       "      <td>[{\"Label\": \"Adipose tissue\", \"Type\": \"C\", \"Wik...</td>\n",
       "      <td>[{\"Label\": \"Adipose tissue\", \"Type\": \"C\", \"Wik...</td>\n",
       "    </tr>\n",
       "  </tbody>\n",
       "</table>\n",
       "</div>"
      ],
      "text/plain": [
       "  News ID   Category      SubCategory  \\\n",
       "0  N55528  lifestyle  lifestyleroyals   \n",
       "1  N19639     health       weightloss   \n",
       "\n",
       "                                               Title  \\\n",
       "0  The Brands Queen Elizabeth, Prince Charles, an...   \n",
       "1                      50 Worst Habits For Belly Fat   \n",
       "\n",
       "                                            Abstract  \\\n",
       "0  Shop the notebooks, jackets, and more that the...   \n",
       "1  These seemingly harmless habits are holding yo...   \n",
       "\n",
       "                                             URL  \\\n",
       "0  https://assets.msn.com/labs/mind/AAGH0ET.html   \n",
       "1  https://assets.msn.com/labs/mind/AAB19MK.html   \n",
       "\n",
       "                                      Title Entities  \\\n",
       "0  [{\"Label\": \"Prince Philip, Duke of Edinburgh\",...   \n",
       "1  [{\"Label\": \"Adipose tissue\", \"Type\": \"C\", \"Wik...   \n",
       "\n",
       "                                   Abstract Entities  \n",
       "0                                                 []  \n",
       "1  [{\"Label\": \"Adipose tissue\", \"Type\": \"C\", \"Wik...  "
      ]
     },
     "execution_count": 3,
     "metadata": {},
     "output_type": "execute_result"
    }
   ],
   "source": [
    "news_raw_data = news_raw_data.rename(columns={0:'News ID', 1:'Category', 2:'SubCategory', 3:'Title', 4:'Abstract', 5:'URL', 6:'Title Entities', 7:'Abstract Entities'})\n",
    "news_raw_data.head(2)"
   ]
  },
  {
   "cell_type": "markdown",
   "id": "d00279aa-1f74-47e9-98f8-a4fe721d9065",
   "metadata": {},
   "source": [
    "### Load behaviors.tsv \n",
    "\n",
    "The behaviors.tsv file contains the impression logs and users' news click hostories. \n",
    "\n",
    "#### Columns\n",
    "* Impression ID. The ID of an impression.\n",
    "* User ID. The anonymous ID of a user.\n",
    "* Time. The impression time with format \"MM/DD/YYYY HH:MM:SS AM/PM\".\n",
    "* History. The news click history (ID list of clicked news) of this user before this impression. The clicked news articles are ordered by time.\n",
    "* Impressions. List of news displayed in this impression and user's click behaviors on them (1 for click and 0 for non-click). The orders of news in a impressions\n",
    "have been shuffled.\n",
    "\n",
    "\n",
    "ref: https://www.kaggle.com/datasets/arashnic/mind-news-dataset\n",
    "\n",
    "- data randomly sampled 1 million users who had at least 5 news clicks during 6 weeks from October 12 to November 22, 2019.\n",
    "\n",
    "- impression logs have been used in the last week for test\n",
    "\n",
    "- the logs in the fifth week for training\n",
    "\n",
    "- used the click behaviors in the first four weeks to construct the news click history for user modeling\n",
    "\n",
    "- Among the training data, the samples in the last day of the fifth week used as validation set"
   ]
  },
  {
   "cell_type": "code",
   "execution_count": 4,
   "id": "18709af8-50df-43ad-9ea5-a0795cadf677",
   "metadata": {},
   "outputs": [
    {
     "name": "stdout",
     "output_type": "stream",
     "text": [
      "(156965, 5)\n"
     ]
    },
    {
     "data": {
      "text/html": [
       "<div>\n",
       "<style scoped>\n",
       "    .dataframe tbody tr th:only-of-type {\n",
       "        vertical-align: middle;\n",
       "    }\n",
       "\n",
       "    .dataframe tbody tr th {\n",
       "        vertical-align: top;\n",
       "    }\n",
       "\n",
       "    .dataframe thead th {\n",
       "        text-align: right;\n",
       "    }\n",
       "</style>\n",
       "<table border=\"1\" class=\"dataframe\">\n",
       "  <thead>\n",
       "    <tr style=\"text-align: right;\">\n",
       "      <th></th>\n",
       "      <th>0</th>\n",
       "      <th>1</th>\n",
       "      <th>2</th>\n",
       "      <th>3</th>\n",
       "      <th>4</th>\n",
       "    </tr>\n",
       "  </thead>\n",
       "  <tbody>\n",
       "    <tr>\n",
       "      <th>0</th>\n",
       "      <td>1</td>\n",
       "      <td>U13740</td>\n",
       "      <td>11/11/2019 9:05:58 AM</td>\n",
       "      <td>N55189 N42782 N34694 N45794 N18445 N63302 N104...</td>\n",
       "      <td>N55689-1 N35729-0</td>\n",
       "    </tr>\n",
       "    <tr>\n",
       "      <th>1</th>\n",
       "      <td>2</td>\n",
       "      <td>U91836</td>\n",
       "      <td>11/12/2019 6:11:30 PM</td>\n",
       "      <td>N31739 N6072 N63045 N23979 N35656 N43353 N8129...</td>\n",
       "      <td>N20678-0 N39317-0 N58114-0 N20495-0 N42977-0 N...</td>\n",
       "    </tr>\n",
       "  </tbody>\n",
       "</table>\n",
       "</div>"
      ],
      "text/plain": [
       "   0       1                      2  \\\n",
       "0  1  U13740  11/11/2019 9:05:58 AM   \n",
       "1  2  U91836  11/12/2019 6:11:30 PM   \n",
       "\n",
       "                                                   3  \\\n",
       "0  N55189 N42782 N34694 N45794 N18445 N63302 N104...   \n",
       "1  N31739 N6072 N63045 N23979 N35656 N43353 N8129...   \n",
       "\n",
       "                                                   4  \n",
       "0                                  N55689-1 N35729-0  \n",
       "1  N20678-0 N39317-0 N58114-0 N20495-0 N42977-0 N...  "
      ]
     },
     "execution_count": 4,
     "metadata": {},
     "output_type": "execute_result"
    }
   ],
   "source": [
    "behaviours_raw_data = pd.read_csv('Dataset/MINDsmall_train/behaviors.tsv',sep='\\t', header=None)\n",
    "print(behaviours_raw_data.shape)\n",
    "behaviours_raw_data.head(2)"
   ]
  },
  {
   "cell_type": "code",
   "execution_count": 5,
   "id": "3c01c95c-9a1d-4c09-b512-7addbd269ae4",
   "metadata": {},
   "outputs": [
    {
     "data": {
      "text/html": [
       "<div>\n",
       "<style scoped>\n",
       "    .dataframe tbody tr th:only-of-type {\n",
       "        vertical-align: middle;\n",
       "    }\n",
       "\n",
       "    .dataframe tbody tr th {\n",
       "        vertical-align: top;\n",
       "    }\n",
       "\n",
       "    .dataframe thead th {\n",
       "        text-align: right;\n",
       "    }\n",
       "</style>\n",
       "<table border=\"1\" class=\"dataframe\">\n",
       "  <thead>\n",
       "    <tr style=\"text-align: right;\">\n",
       "      <th></th>\n",
       "      <th>Impression ID</th>\n",
       "      <th>User ID</th>\n",
       "      <th>Time</th>\n",
       "      <th>History</th>\n",
       "      <th>Impressions</th>\n",
       "    </tr>\n",
       "  </thead>\n",
       "  <tbody>\n",
       "    <tr>\n",
       "      <th>0</th>\n",
       "      <td>1</td>\n",
       "      <td>U13740</td>\n",
       "      <td>11/11/2019 9:05:58 AM</td>\n",
       "      <td>N55189 N42782 N34694 N45794 N18445 N63302 N104...</td>\n",
       "      <td>N55689-1 N35729-0</td>\n",
       "    </tr>\n",
       "    <tr>\n",
       "      <th>1</th>\n",
       "      <td>2</td>\n",
       "      <td>U91836</td>\n",
       "      <td>11/12/2019 6:11:30 PM</td>\n",
       "      <td>N31739 N6072 N63045 N23979 N35656 N43353 N8129...</td>\n",
       "      <td>N20678-0 N39317-0 N58114-0 N20495-0 N42977-0 N...</td>\n",
       "    </tr>\n",
       "  </tbody>\n",
       "</table>\n",
       "</div>"
      ],
      "text/plain": [
       "   Impression ID User ID                   Time  \\\n",
       "0              1  U13740  11/11/2019 9:05:58 AM   \n",
       "1              2  U91836  11/12/2019 6:11:30 PM   \n",
       "\n",
       "                                             History  \\\n",
       "0  N55189 N42782 N34694 N45794 N18445 N63302 N104...   \n",
       "1  N31739 N6072 N63045 N23979 N35656 N43353 N8129...   \n",
       "\n",
       "                                         Impressions  \n",
       "0                                  N55689-1 N35729-0  \n",
       "1  N20678-0 N39317-0 N58114-0 N20495-0 N42977-0 N...  "
      ]
     },
     "execution_count": 5,
     "metadata": {},
     "output_type": "execute_result"
    }
   ],
   "source": [
    "behaviours_raw_data = behaviours_raw_data.rename(columns={0:'Impression ID', 1:'User ID', 2:'Time', 3:'History', 4:'Impressions'})\n",
    "behaviours_raw_data.head(2)"
   ]
  },
  {
   "cell_type": "markdown",
   "id": "90c16683-a4d3-4246-a4d0-3ea3739b2635",
   "metadata": {},
   "source": [
    "#### News data"
   ]
  },
  {
   "cell_type": "code",
   "execution_count": 6,
   "id": "8f58fffc-1878-4357-97b3-2d6c50401944",
   "metadata": {},
   "outputs": [
    {
     "name": "stdout",
     "output_type": "stream",
     "text": [
      "Shape of news data:  (42416, 8)\n"
     ]
    },
    {
     "data": {
      "text/html": [
       "<div>\n",
       "<style scoped>\n",
       "    .dataframe tbody tr th:only-of-type {\n",
       "        vertical-align: middle;\n",
       "    }\n",
       "\n",
       "    .dataframe tbody tr th {\n",
       "        vertical-align: top;\n",
       "    }\n",
       "\n",
       "    .dataframe thead th {\n",
       "        text-align: right;\n",
       "    }\n",
       "</style>\n",
       "<table border=\"1\" class=\"dataframe\">\n",
       "  <thead>\n",
       "    <tr style=\"text-align: right;\">\n",
       "      <th></th>\n",
       "      <th>0</th>\n",
       "      <th>1</th>\n",
       "      <th>2</th>\n",
       "      <th>3</th>\n",
       "      <th>4</th>\n",
       "      <th>5</th>\n",
       "      <th>6</th>\n",
       "      <th>7</th>\n",
       "    </tr>\n",
       "  </thead>\n",
       "  <tbody>\n",
       "    <tr>\n",
       "      <th>0</th>\n",
       "      <td>N55528</td>\n",
       "      <td>lifestyle</td>\n",
       "      <td>lifestyleroyals</td>\n",
       "      <td>The Brands Queen Elizabeth, Prince Charles, an...</td>\n",
       "      <td>Shop the notebooks, jackets, and more that the...</td>\n",
       "      <td>https://assets.msn.com/labs/mind/AAGH0ET.html</td>\n",
       "      <td>[{\"Label\": \"Prince Philip, Duke of Edinburgh\",...</td>\n",
       "      <td>[]</td>\n",
       "    </tr>\n",
       "    <tr>\n",
       "      <th>1</th>\n",
       "      <td>N18955</td>\n",
       "      <td>health</td>\n",
       "      <td>medical</td>\n",
       "      <td>Dispose of unwanted prescription drugs during ...</td>\n",
       "      <td>NaN</td>\n",
       "      <td>https://assets.msn.com/labs/mind/AAISxPN.html</td>\n",
       "      <td>[{\"Label\": \"Drug Enforcement Administration\", ...</td>\n",
       "      <td>[]</td>\n",
       "    </tr>\n",
       "  </tbody>\n",
       "</table>\n",
       "</div>"
      ],
      "text/plain": [
       "        0          1                2  \\\n",
       "0  N55528  lifestyle  lifestyleroyals   \n",
       "1  N18955     health          medical   \n",
       "\n",
       "                                                   3  \\\n",
       "0  The Brands Queen Elizabeth, Prince Charles, an...   \n",
       "1  Dispose of unwanted prescription drugs during ...   \n",
       "\n",
       "                                                   4  \\\n",
       "0  Shop the notebooks, jackets, and more that the...   \n",
       "1                                                NaN   \n",
       "\n",
       "                                               5  \\\n",
       "0  https://assets.msn.com/labs/mind/AAGH0ET.html   \n",
       "1  https://assets.msn.com/labs/mind/AAISxPN.html   \n",
       "\n",
       "                                                   6   7  \n",
       "0  [{\"Label\": \"Prince Philip, Duke of Edinburgh\",...  []  \n",
       "1  [{\"Label\": \"Drug Enforcement Administration\", ...  []  "
      ]
     },
     "execution_count": 6,
     "metadata": {},
     "output_type": "execute_result"
    }
   ],
   "source": [
    "news_val_data = pd.read_csv('Dataset/MINDsmall_dev/news.tsv',sep='\\t', header=None)\n",
    "print(\"Shape of news data: \",news_val_data.shape)\n",
    "news_val_data.head(2)"
   ]
  },
  {
   "cell_type": "code",
   "execution_count": 7,
   "id": "7b92b324-26a0-4f3e-86dc-3ec3d110ca20",
   "metadata": {},
   "outputs": [
    {
     "data": {
      "text/html": [
       "<div>\n",
       "<style scoped>\n",
       "    .dataframe tbody tr th:only-of-type {\n",
       "        vertical-align: middle;\n",
       "    }\n",
       "\n",
       "    .dataframe tbody tr th {\n",
       "        vertical-align: top;\n",
       "    }\n",
       "\n",
       "    .dataframe thead th {\n",
       "        text-align: right;\n",
       "    }\n",
       "</style>\n",
       "<table border=\"1\" class=\"dataframe\">\n",
       "  <thead>\n",
       "    <tr style=\"text-align: right;\">\n",
       "      <th></th>\n",
       "      <th>News ID</th>\n",
       "      <th>Category</th>\n",
       "      <th>SubCategory</th>\n",
       "      <th>Title</th>\n",
       "      <th>Abstract</th>\n",
       "      <th>URL</th>\n",
       "      <th>Title Entities</th>\n",
       "      <th>Abstract Entities</th>\n",
       "    </tr>\n",
       "  </thead>\n",
       "  <tbody>\n",
       "    <tr>\n",
       "      <th>0</th>\n",
       "      <td>N55528</td>\n",
       "      <td>lifestyle</td>\n",
       "      <td>lifestyleroyals</td>\n",
       "      <td>The Brands Queen Elizabeth, Prince Charles, an...</td>\n",
       "      <td>Shop the notebooks, jackets, and more that the...</td>\n",
       "      <td>https://assets.msn.com/labs/mind/AAGH0ET.html</td>\n",
       "      <td>[{\"Label\": \"Prince Philip, Duke of Edinburgh\",...</td>\n",
       "      <td>[]</td>\n",
       "    </tr>\n",
       "    <tr>\n",
       "      <th>1</th>\n",
       "      <td>N18955</td>\n",
       "      <td>health</td>\n",
       "      <td>medical</td>\n",
       "      <td>Dispose of unwanted prescription drugs during ...</td>\n",
       "      <td>NaN</td>\n",
       "      <td>https://assets.msn.com/labs/mind/AAISxPN.html</td>\n",
       "      <td>[{\"Label\": \"Drug Enforcement Administration\", ...</td>\n",
       "      <td>[]</td>\n",
       "    </tr>\n",
       "  </tbody>\n",
       "</table>\n",
       "</div>"
      ],
      "text/plain": [
       "  News ID   Category      SubCategory  \\\n",
       "0  N55528  lifestyle  lifestyleroyals   \n",
       "1  N18955     health          medical   \n",
       "\n",
       "                                               Title  \\\n",
       "0  The Brands Queen Elizabeth, Prince Charles, an...   \n",
       "1  Dispose of unwanted prescription drugs during ...   \n",
       "\n",
       "                                            Abstract  \\\n",
       "0  Shop the notebooks, jackets, and more that the...   \n",
       "1                                                NaN   \n",
       "\n",
       "                                             URL  \\\n",
       "0  https://assets.msn.com/labs/mind/AAGH0ET.html   \n",
       "1  https://assets.msn.com/labs/mind/AAISxPN.html   \n",
       "\n",
       "                                      Title Entities Abstract Entities  \n",
       "0  [{\"Label\": \"Prince Philip, Duke of Edinburgh\",...                []  \n",
       "1  [{\"Label\": \"Drug Enforcement Administration\", ...                []  "
      ]
     },
     "execution_count": 7,
     "metadata": {},
     "output_type": "execute_result"
    }
   ],
   "source": [
    "news_val_data = news_val_data.rename(columns={0:'News ID', 1:'Category', 2:'SubCategory', 3:'Title', 4:'Abstract', 5:'URL', 6:'Title Entities', 7:'Abstract Entities'})\n",
    "news_val_data.head(2)"
   ]
  },
  {
   "cell_type": "markdown",
   "id": "f9958f82-274f-48ea-b643-9250c72f1472",
   "metadata": {},
   "source": [
    "#### Behaviors data"
   ]
  },
  {
   "cell_type": "code",
   "execution_count": 8,
   "id": "cba9273a-ed8e-49cd-b28b-8c65c2152fe5",
   "metadata": {},
   "outputs": [
    {
     "name": "stdout",
     "output_type": "stream",
     "text": [
      "(73152, 5)\n"
     ]
    },
    {
     "data": {
      "text/html": [
       "<div>\n",
       "<style scoped>\n",
       "    .dataframe tbody tr th:only-of-type {\n",
       "        vertical-align: middle;\n",
       "    }\n",
       "\n",
       "    .dataframe tbody tr th {\n",
       "        vertical-align: top;\n",
       "    }\n",
       "\n",
       "    .dataframe thead th {\n",
       "        text-align: right;\n",
       "    }\n",
       "</style>\n",
       "<table border=\"1\" class=\"dataframe\">\n",
       "  <thead>\n",
       "    <tr style=\"text-align: right;\">\n",
       "      <th></th>\n",
       "      <th>0</th>\n",
       "      <th>1</th>\n",
       "      <th>2</th>\n",
       "      <th>3</th>\n",
       "      <th>4</th>\n",
       "    </tr>\n",
       "  </thead>\n",
       "  <tbody>\n",
       "    <tr>\n",
       "      <th>0</th>\n",
       "      <td>1</td>\n",
       "      <td>U80234</td>\n",
       "      <td>11/15/2019 12:37:50 PM</td>\n",
       "      <td>N55189 N46039 N51741 N53234 N11276 N264 N40716...</td>\n",
       "      <td>N28682-0 N48740-0 N31958-1 N34130-0 N6916-0 N5...</td>\n",
       "    </tr>\n",
       "    <tr>\n",
       "      <th>1</th>\n",
       "      <td>2</td>\n",
       "      <td>U60458</td>\n",
       "      <td>11/15/2019 7:11:50 AM</td>\n",
       "      <td>N58715 N32109 N51180 N33438 N54827 N28488 N611...</td>\n",
       "      <td>N20036-0 N23513-1 N32536-0 N46976-0 N35216-0 N...</td>\n",
       "    </tr>\n",
       "  </tbody>\n",
       "</table>\n",
       "</div>"
      ],
      "text/plain": [
       "   0       1                       2  \\\n",
       "0  1  U80234  11/15/2019 12:37:50 PM   \n",
       "1  2  U60458   11/15/2019 7:11:50 AM   \n",
       "\n",
       "                                                   3  \\\n",
       "0  N55189 N46039 N51741 N53234 N11276 N264 N40716...   \n",
       "1  N58715 N32109 N51180 N33438 N54827 N28488 N611...   \n",
       "\n",
       "                                                   4  \n",
       "0  N28682-0 N48740-0 N31958-1 N34130-0 N6916-0 N5...  \n",
       "1  N20036-0 N23513-1 N32536-0 N46976-0 N35216-0 N...  "
      ]
     },
     "execution_count": 8,
     "metadata": {},
     "output_type": "execute_result"
    }
   ],
   "source": [
    "behaviours_val_data = pd.read_csv('Dataset/MINDsmall_dev/behaviors.tsv',sep='\\t', header=None)\n",
    "print(behaviours_val_data.shape)\n",
    "behaviours_val_data.head(2)"
   ]
  },
  {
   "cell_type": "code",
   "execution_count": 9,
   "id": "8675319d-b2b6-4cf0-a4f6-11887c693fe0",
   "metadata": {},
   "outputs": [
    {
     "data": {
      "text/html": [
       "<div>\n",
       "<style scoped>\n",
       "    .dataframe tbody tr th:only-of-type {\n",
       "        vertical-align: middle;\n",
       "    }\n",
       "\n",
       "    .dataframe tbody tr th {\n",
       "        vertical-align: top;\n",
       "    }\n",
       "\n",
       "    .dataframe thead th {\n",
       "        text-align: right;\n",
       "    }\n",
       "</style>\n",
       "<table border=\"1\" class=\"dataframe\">\n",
       "  <thead>\n",
       "    <tr style=\"text-align: right;\">\n",
       "      <th></th>\n",
       "      <th>Impression ID</th>\n",
       "      <th>User ID</th>\n",
       "      <th>Time</th>\n",
       "      <th>History</th>\n",
       "      <th>Impressions</th>\n",
       "    </tr>\n",
       "  </thead>\n",
       "  <tbody>\n",
       "    <tr>\n",
       "      <th>0</th>\n",
       "      <td>1</td>\n",
       "      <td>U80234</td>\n",
       "      <td>11/15/2019 12:37:50 PM</td>\n",
       "      <td>N55189 N46039 N51741 N53234 N11276 N264 N40716...</td>\n",
       "      <td>N28682-0 N48740-0 N31958-1 N34130-0 N6916-0 N5...</td>\n",
       "    </tr>\n",
       "    <tr>\n",
       "      <th>1</th>\n",
       "      <td>2</td>\n",
       "      <td>U60458</td>\n",
       "      <td>11/15/2019 7:11:50 AM</td>\n",
       "      <td>N58715 N32109 N51180 N33438 N54827 N28488 N611...</td>\n",
       "      <td>N20036-0 N23513-1 N32536-0 N46976-0 N35216-0 N...</td>\n",
       "    </tr>\n",
       "  </tbody>\n",
       "</table>\n",
       "</div>"
      ],
      "text/plain": [
       "   Impression ID User ID                    Time  \\\n",
       "0              1  U80234  11/15/2019 12:37:50 PM   \n",
       "1              2  U60458   11/15/2019 7:11:50 AM   \n",
       "\n",
       "                                             History  \\\n",
       "0  N55189 N46039 N51741 N53234 N11276 N264 N40716...   \n",
       "1  N58715 N32109 N51180 N33438 N54827 N28488 N611...   \n",
       "\n",
       "                                         Impressions  \n",
       "0  N28682-0 N48740-0 N31958-1 N34130-0 N6916-0 N5...  \n",
       "1  N20036-0 N23513-1 N32536-0 N46976-0 N35216-0 N...  "
      ]
     },
     "execution_count": 9,
     "metadata": {},
     "output_type": "execute_result"
    }
   ],
   "source": [
    "behaviours_val_data = behaviours_val_data.rename(columns={0:'Impression ID', 1:'User ID', 2:'Time', 3:'History', 4:'Impressions'})\n",
    "behaviours_val_data.head(2)"
   ]
  },
  {
   "cell_type": "markdown",
   "id": "73f54de5-5393-4a66-b018-e2e227428493",
   "metadata": {
    "jp-MarkdownHeadingCollapsed": true
   },
   "source": [
    "### Data pre-processing"
   ]
  },
  {
   "cell_type": "markdown",
   "id": "071533b5-3809-40d7-83eb-58abda962e35",
   "metadata": {},
   "source": [
    "#### News data"
   ]
  },
  {
   "cell_type": "code",
   "execution_count": 10,
   "id": "fb66bed2-f800-4493-8b36-300c71bb9c61",
   "metadata": {},
   "outputs": [
    {
     "name": "stdout",
     "output_type": "stream",
     "text": [
      "Number of news articles: 51282\n"
     ]
    }
   ],
   "source": [
    "print('Number of news articles: {}'.format(len(news_raw_data['News ID'].unique())))"
   ]
  },
  {
   "cell_type": "code",
   "execution_count": 11,
   "id": "dd060dc6-03d6-4757-9fb9-126c6c1a5585",
   "metadata": {},
   "outputs": [
    {
     "name": "stdout",
     "output_type": "stream",
     "text": [
      "number of duplicated titles:  848\n"
     ]
    }
   ],
   "source": [
    "# find duplicated title rows. As title should be unique for each article so whereever titles are same can be considered duplicate rows/samples\n",
    "duplicated_title_list = [x for x in news_raw_data.duplicated(['Title']) if (x == True)]\n",
    "print('number of duplicated titles: ', len(duplicated_title_list))"
   ]
  },
  {
   "cell_type": "code",
   "execution_count": 12,
   "id": "84007278-4022-45c7-930d-019d8ba0658b",
   "metadata": {},
   "outputs": [
    {
     "name": "stdout",
     "output_type": "stream",
     "text": [
      "number of duplicated titles:  0\n"
     ]
    }
   ],
   "source": [
    "# find duplicated title rows. As title should be unique for each article so whereever titles are same can be considered duplicate rows/samples\n",
    "duplicated_title_list = [x for x in news_raw_data.duplicated(['News ID']) if (x == True)]\n",
    "print('number of duplicated titles: ', len(duplicated_title_list))"
   ]
  },
  {
   "cell_type": "markdown",
   "id": "525e62b1-7834-4e04-923f-b57f124c0dae",
   "metadata": {},
   "source": [
    "848 news articles with same titles but different news ID"
   ]
  },
  {
   "cell_type": "code",
   "execution_count": 13,
   "id": "cb2dfdc6-7a2a-4de6-b61d-e064216efaed",
   "metadata": {},
   "outputs": [
    {
     "data": {
      "text/plain": [
       "News ID                 0\n",
       "Category                0\n",
       "SubCategory             0\n",
       "Title                   0\n",
       "Abstract             2666\n",
       "URL                     0\n",
       "Title Entities          3\n",
       "Abstract Entities       4\n",
       "dtype: int64"
      ]
     },
     "execution_count": 13,
     "metadata": {},
     "output_type": "execute_result"
    }
   ],
   "source": [
    "news_raw_data.isna().sum()"
   ]
  },
  {
   "cell_type": "code",
   "execution_count": 14,
   "id": "eee46653-9b85-4dc7-9df1-bfa5eb9b6605",
   "metadata": {},
   "outputs": [
    {
     "data": {
      "text/plain": [
       "News ID                 0\n",
       "Category                0\n",
       "SubCategory             0\n",
       "Title                   0\n",
       "Abstract             2666\n",
       "URL                     0\n",
       "Title Entities          3\n",
       "Abstract Entities       4\n",
       "dtype: int64"
      ]
     },
     "execution_count": 14,
     "metadata": {},
     "output_type": "execute_result"
    }
   ],
   "source": [
    "news_raw_data.isnull().sum()"
   ]
  },
  {
   "cell_type": "markdown",
   "id": "d74be2d4-2ac3-4c80-8873-8f8ad45a8c76",
   "metadata": {},
   "source": [
    "- 848 duplicate news articles based on titles. but can have different news ID*\n",
    "- No. of rows where some column values are missing.\n",
    "\n",
    "  Abstracts: 2666, Title Entities: 3, Abstract Entities: 4 \n",
    "- Abstracts for 2666 news IDs, should we just drop the rows where no abstracts(if we are using abstracts as feature)?\n",
    "- Cannot drop news articles as they might be present in behaviours data."
   ]
  },
  {
   "cell_type": "markdown",
   "id": "b2a28066-2489-40d2-a2eb-fa0993e37e23",
   "metadata": {
    "jp-MarkdownHeadingCollapsed": true
   },
   "source": [
    "#### Behaviour data"
   ]
  },
  {
   "cell_type": "code",
   "execution_count": 15,
   "id": "745e79d2-f384-46aa-8019-320ec48880ff",
   "metadata": {},
   "outputs": [
    {
     "data": {
      "text/html": [
       "<div>\n",
       "<style scoped>\n",
       "    .dataframe tbody tr th:only-of-type {\n",
       "        vertical-align: middle;\n",
       "    }\n",
       "\n",
       "    .dataframe tbody tr th {\n",
       "        vertical-align: top;\n",
       "    }\n",
       "\n",
       "    .dataframe thead th {\n",
       "        text-align: right;\n",
       "    }\n",
       "</style>\n",
       "<table border=\"1\" class=\"dataframe\">\n",
       "  <thead>\n",
       "    <tr style=\"text-align: right;\">\n",
       "      <th></th>\n",
       "      <th>Impression ID</th>\n",
       "      <th>User ID</th>\n",
       "      <th>Time</th>\n",
       "      <th>History</th>\n",
       "      <th>Impressions</th>\n",
       "    </tr>\n",
       "  </thead>\n",
       "  <tbody>\n",
       "    <tr>\n",
       "      <th>28</th>\n",
       "      <td>29</td>\n",
       "      <td>U33207</td>\n",
       "      <td>11/11/2019 11:09:14 AM</td>\n",
       "      <td>NaN</td>\n",
       "      <td>N62212-0 N27521-0 N28983-0 N12028-0 N25437-0 N...</td>\n",
       "    </tr>\n",
       "    <tr>\n",
       "      <th>96</th>\n",
       "      <td>97</td>\n",
       "      <td>U89839</td>\n",
       "      <td>11/11/2019 4:57:51 AM</td>\n",
       "      <td>NaN</td>\n",
       "      <td>N12042-0 N35729-0 N49685-0 N62729-1</td>\n",
       "    </tr>\n",
       "    <tr>\n",
       "      <th>155</th>\n",
       "      <td>156</td>\n",
       "      <td>U5598</td>\n",
       "      <td>11/13/2019 2:01:40 PM</td>\n",
       "      <td>NaN</td>\n",
       "      <td>N7121-0 N37437-0 N53861-0 N45891-0 N21141-0 N5...</td>\n",
       "    </tr>\n",
       "    <tr>\n",
       "      <th>194</th>\n",
       "      <td>195</td>\n",
       "      <td>U19208</td>\n",
       "      <td>11/11/2019 3:57:34 PM</td>\n",
       "      <td>NaN</td>\n",
       "      <td>N23414-1 N52474-0 N6099-0 N5980-0 N1914-0</td>\n",
       "    </tr>\n",
       "    <tr>\n",
       "      <th>257</th>\n",
       "      <td>258</td>\n",
       "      <td>U6879</td>\n",
       "      <td>11/14/2019 5:33:52 PM</td>\n",
       "      <td>NaN</td>\n",
       "      <td>N9284-0 N23391-0 N42849-0 N33828-0 N57081-0 N2...</td>\n",
       "    </tr>\n",
       "    <tr>\n",
       "      <th>...</th>\n",
       "      <td>...</td>\n",
       "      <td>...</td>\n",
       "      <td>...</td>\n",
       "      <td>...</td>\n",
       "      <td>...</td>\n",
       "    </tr>\n",
       "    <tr>\n",
       "      <th>156850</th>\n",
       "      <td>156851</td>\n",
       "      <td>U85936</td>\n",
       "      <td>11/10/2019 8:52:02 AM</td>\n",
       "      <td>NaN</td>\n",
       "      <td>N41140-1 N4148-0</td>\n",
       "    </tr>\n",
       "    <tr>\n",
       "      <th>156890</th>\n",
       "      <td>156891</td>\n",
       "      <td>U4828</td>\n",
       "      <td>11/11/2019 9:41:21 AM</td>\n",
       "      <td>NaN</td>\n",
       "      <td>N8957-0 N60162-0 N16804-0 N24180-0 N31370-0 N2...</td>\n",
       "    </tr>\n",
       "    <tr>\n",
       "      <th>156897</th>\n",
       "      <td>156898</td>\n",
       "      <td>U38290</td>\n",
       "      <td>11/14/2019 3:50:07 PM</td>\n",
       "      <td>NaN</td>\n",
       "      <td>N59267-0 N12446-0 N53031-0 N3380-0 N56211-0 N5...</td>\n",
       "    </tr>\n",
       "    <tr>\n",
       "      <th>156921</th>\n",
       "      <td>156922</td>\n",
       "      <td>U64209</td>\n",
       "      <td>11/11/2019 7:11:07 AM</td>\n",
       "      <td>NaN</td>\n",
       "      <td>N35729-0 N15830-0 N48759-0 N21519-1 N27581-0 N...</td>\n",
       "    </tr>\n",
       "    <tr>\n",
       "      <th>156935</th>\n",
       "      <td>156936</td>\n",
       "      <td>U35188</td>\n",
       "      <td>11/11/2019 1:39:46 PM</td>\n",
       "      <td>NaN</td>\n",
       "      <td>N13930-0 N55204-0 N38662-0 N53585-1 N55689-0</td>\n",
       "    </tr>\n",
       "  </tbody>\n",
       "</table>\n",
       "<p>3238 rows × 5 columns</p>\n",
       "</div>"
      ],
      "text/plain": [
       "        Impression ID User ID                    Time History  \\\n",
       "28                 29  U33207  11/11/2019 11:09:14 AM     NaN   \n",
       "96                 97  U89839   11/11/2019 4:57:51 AM     NaN   \n",
       "155               156   U5598   11/13/2019 2:01:40 PM     NaN   \n",
       "194               195  U19208   11/11/2019 3:57:34 PM     NaN   \n",
       "257               258   U6879   11/14/2019 5:33:52 PM     NaN   \n",
       "...               ...     ...                     ...     ...   \n",
       "156850         156851  U85936   11/10/2019 8:52:02 AM     NaN   \n",
       "156890         156891   U4828   11/11/2019 9:41:21 AM     NaN   \n",
       "156897         156898  U38290   11/14/2019 3:50:07 PM     NaN   \n",
       "156921         156922  U64209   11/11/2019 7:11:07 AM     NaN   \n",
       "156935         156936  U35188   11/11/2019 1:39:46 PM     NaN   \n",
       "\n",
       "                                              Impressions  \n",
       "28      N62212-0 N27521-0 N28983-0 N12028-0 N25437-0 N...  \n",
       "96                    N12042-0 N35729-0 N49685-0 N62729-1  \n",
       "155     N7121-0 N37437-0 N53861-0 N45891-0 N21141-0 N5...  \n",
       "194             N23414-1 N52474-0 N6099-0 N5980-0 N1914-0  \n",
       "257     N9284-0 N23391-0 N42849-0 N33828-0 N57081-0 N2...  \n",
       "...                                                   ...  \n",
       "156850                                   N41140-1 N4148-0  \n",
       "156890  N8957-0 N60162-0 N16804-0 N24180-0 N31370-0 N2...  \n",
       "156897  N59267-0 N12446-0 N53031-0 N3380-0 N56211-0 N5...  \n",
       "156921  N35729-0 N15830-0 N48759-0 N21519-1 N27581-0 N...  \n",
       "156935       N13930-0 N55204-0 N38662-0 N53585-1 N55689-0  \n",
       "\n",
       "[3238 rows x 5 columns]"
      ]
     },
     "execution_count": 15,
     "metadata": {},
     "output_type": "execute_result"
    }
   ],
   "source": [
    "behaviours_raw_data[behaviours_raw_data['History'].isna()]"
   ]
  },
  {
   "cell_type": "code",
   "execution_count": 16,
   "id": "5f535b0c-74f7-43ef-a043-0efafa3b0ecc",
   "metadata": {},
   "outputs": [
    {
     "data": {
      "text/html": [
       "<div>\n",
       "<style scoped>\n",
       "    .dataframe tbody tr th:only-of-type {\n",
       "        vertical-align: middle;\n",
       "    }\n",
       "\n",
       "    .dataframe tbody tr th {\n",
       "        vertical-align: top;\n",
       "    }\n",
       "\n",
       "    .dataframe thead th {\n",
       "        text-align: right;\n",
       "    }\n",
       "</style>\n",
       "<table border=\"1\" class=\"dataframe\">\n",
       "  <thead>\n",
       "    <tr style=\"text-align: right;\">\n",
       "      <th></th>\n",
       "      <th>Impression ID</th>\n",
       "      <th>Time</th>\n",
       "      <th>History</th>\n",
       "      <th>Impressions</th>\n",
       "    </tr>\n",
       "    <tr>\n",
       "      <th>User ID</th>\n",
       "      <th></th>\n",
       "      <th></th>\n",
       "      <th></th>\n",
       "      <th></th>\n",
       "    </tr>\n",
       "  </thead>\n",
       "  <tbody>\n",
       "    <tr>\n",
       "      <th>U100</th>\n",
       "      <td>107691</td>\n",
       "      <td>11/12/2019 7:34:12 AM</td>\n",
       "      <td>N20121 N33998 N45954 N55743 N50095 N18870 N534...</td>\n",
       "      <td>N61235-0 N54489-0 N42597-0 N7800-1 N61408-0 N2...</td>\n",
       "    </tr>\n",
       "    <tr>\n",
       "      <th>U1000</th>\n",
       "      <td>46640</td>\n",
       "      <td>11/14/2019 1:00:56 AM</td>\n",
       "      <td>N29641 N1789 N41244</td>\n",
       "      <td>N16148-0 N43628-0 N13094-0 N32774-0 N57034-0 N...</td>\n",
       "    </tr>\n",
       "    <tr>\n",
       "      <th>U10001</th>\n",
       "      <td>60203</td>\n",
       "      <td>11/14/2019 5:46:54 AM</td>\n",
       "      <td>N47937 N51706 N56447 N61319 N27644 N18030 N272...</td>\n",
       "      <td>N42860-0 N62750-0 N33025-0 N3167-0 N51975-0 N4...</td>\n",
       "    </tr>\n",
       "    <tr>\n",
       "      <th>U10003</th>\n",
       "      <td>46693</td>\n",
       "      <td>11/11/2019 2:13:58 PM</td>\n",
       "      <td>N39074 N26619 N31431 N1282 N61052 N41668 N5083...</td>\n",
       "      <td>N58710-0 N39770-0 N33964-0 N64009-0 N36692-0 N...</td>\n",
       "    </tr>\n",
       "    <tr>\n",
       "      <th>U10008</th>\n",
       "      <td>46855</td>\n",
       "      <td>11/9/2019 2:13:33 PM</td>\n",
       "      <td>N23912 N30148 N46754 N33117 N9619 N36526 N4449...</td>\n",
       "      <td>N24272-0 N8016-0 N43595-0 N732-0 N8929-0 N3567...</td>\n",
       "    </tr>\n",
       "    <tr>\n",
       "      <th>...</th>\n",
       "      <td>...</td>\n",
       "      <td>...</td>\n",
       "      <td>...</td>\n",
       "      <td>...</td>\n",
       "    </tr>\n",
       "    <tr>\n",
       "      <th>U9993</th>\n",
       "      <td>142655</td>\n",
       "      <td>11/14/2019 12:05:20 PM</td>\n",
       "      <td>N47458 N14114</td>\n",
       "      <td>N28918-0 N53515-0 N34869-0 N37204-0 N15574-0 N...</td>\n",
       "    </tr>\n",
       "    <tr>\n",
       "      <th>U9995</th>\n",
       "      <td>104406</td>\n",
       "      <td>11/14/2019 9:29:48 AM</td>\n",
       "      <td>N61471 N61704 N49103 N63554 N44399 N32117 N218...</td>\n",
       "      <td>N47098-0 N50872-0 N44698-0 N55943-0 N496-0 N15...</td>\n",
       "    </tr>\n",
       "    <tr>\n",
       "      <th>U9996</th>\n",
       "      <td>76921</td>\n",
       "      <td>11/13/2019 10:07:24 AM</td>\n",
       "      <td>N28296 N4719 N60340 N31165 N8448</td>\n",
       "      <td>N287-1 N64094-0 N51048-0 N39010-0</td>\n",
       "    </tr>\n",
       "    <tr>\n",
       "      <th>U9997</th>\n",
       "      <td>62953</td>\n",
       "      <td>11/13/2019 2:41:42 PM</td>\n",
       "      <td>N46759 N46990 N9072 N11727 N50744 N38367 N3333...</td>\n",
       "      <td>N35273-0 N4510-0 N48410-1 N29170-0 N26262-0 N5...</td>\n",
       "    </tr>\n",
       "    <tr>\n",
       "      <th>U9999</th>\n",
       "      <td>122509</td>\n",
       "      <td>11/10/2019 4:59:19 PM</td>\n",
       "      <td>N64503 N20039 N447 N10865 N59026 N12972 N25577...</td>\n",
       "      <td>N15224-0 N57651-0 N23184-0 N37533-0 N15931-0 N...</td>\n",
       "    </tr>\n",
       "  </tbody>\n",
       "</table>\n",
       "<p>50000 rows × 4 columns</p>\n",
       "</div>"
      ],
      "text/plain": [
       "         Impression ID                    Time  \\\n",
       "User ID                                          \n",
       "U100            107691   11/12/2019 7:34:12 AM   \n",
       "U1000            46640   11/14/2019 1:00:56 AM   \n",
       "U10001           60203   11/14/2019 5:46:54 AM   \n",
       "U10003           46693   11/11/2019 2:13:58 PM   \n",
       "U10008           46855    11/9/2019 2:13:33 PM   \n",
       "...                ...                     ...   \n",
       "U9993           142655  11/14/2019 12:05:20 PM   \n",
       "U9995           104406   11/14/2019 9:29:48 AM   \n",
       "U9996            76921  11/13/2019 10:07:24 AM   \n",
       "U9997            62953   11/13/2019 2:41:42 PM   \n",
       "U9999           122509   11/10/2019 4:59:19 PM   \n",
       "\n",
       "                                                   History  \\\n",
       "User ID                                                      \n",
       "U100     N20121 N33998 N45954 N55743 N50095 N18870 N534...   \n",
       "U1000                                  N29641 N1789 N41244   \n",
       "U10001   N47937 N51706 N56447 N61319 N27644 N18030 N272...   \n",
       "U10003   N39074 N26619 N31431 N1282 N61052 N41668 N5083...   \n",
       "U10008   N23912 N30148 N46754 N33117 N9619 N36526 N4449...   \n",
       "...                                                    ...   \n",
       "U9993                                        N47458 N14114   \n",
       "U9995    N61471 N61704 N49103 N63554 N44399 N32117 N218...   \n",
       "U9996                     N28296 N4719 N60340 N31165 N8448   \n",
       "U9997    N46759 N46990 N9072 N11727 N50744 N38367 N3333...   \n",
       "U9999    N64503 N20039 N447 N10865 N59026 N12972 N25577...   \n",
       "\n",
       "                                               Impressions  \n",
       "User ID                                                     \n",
       "U100     N61235-0 N54489-0 N42597-0 N7800-1 N61408-0 N2...  \n",
       "U1000    N16148-0 N43628-0 N13094-0 N32774-0 N57034-0 N...  \n",
       "U10001   N42860-0 N62750-0 N33025-0 N3167-0 N51975-0 N4...  \n",
       "U10003   N58710-0 N39770-0 N33964-0 N64009-0 N36692-0 N...  \n",
       "U10008   N24272-0 N8016-0 N43595-0 N732-0 N8929-0 N3567...  \n",
       "...                                                    ...  \n",
       "U9993    N28918-0 N53515-0 N34869-0 N37204-0 N15574-0 N...  \n",
       "U9995    N47098-0 N50872-0 N44698-0 N55943-0 N496-0 N15...  \n",
       "U9996                    N287-1 N64094-0 N51048-0 N39010-0  \n",
       "U9997    N35273-0 N4510-0 N48410-1 N29170-0 N26262-0 N5...  \n",
       "U9999    N15224-0 N57651-0 N23184-0 N37533-0 N15931-0 N...  \n",
       "\n",
       "[50000 rows x 4 columns]"
      ]
     },
     "execution_count": 16,
     "metadata": {},
     "output_type": "execute_result"
    }
   ],
   "source": [
    "behaviours_raw_data.groupby('User ID').first()"
   ]
  },
  {
   "cell_type": "code",
   "execution_count": 17,
   "id": "b1348867-8d86-45d7-bb04-56ac77ddb492",
   "metadata": {},
   "outputs": [
    {
     "data": {
      "text/plain": [
       "3238"
      ]
     },
     "execution_count": 17,
     "metadata": {},
     "output_type": "execute_result"
    }
   ],
   "source": [
    "len(behaviours_raw_data[behaviours_raw_data['History'].isna()])"
   ]
  },
  {
   "cell_type": "code",
   "execution_count": 18,
   "id": "a6e0cbf7-af21-4d89-a698-d3f9029681fe",
   "metadata": {},
   "outputs": [
    {
     "data": {
      "text/html": [
       "<div>\n",
       "<style scoped>\n",
       "    .dataframe tbody tr th:only-of-type {\n",
       "        vertical-align: middle;\n",
       "    }\n",
       "\n",
       "    .dataframe tbody tr th {\n",
       "        vertical-align: top;\n",
       "    }\n",
       "\n",
       "    .dataframe thead th {\n",
       "        text-align: right;\n",
       "    }\n",
       "</style>\n",
       "<table border=\"1\" class=\"dataframe\">\n",
       "  <thead>\n",
       "    <tr style=\"text-align: right;\">\n",
       "      <th></th>\n",
       "      <th>Impression ID</th>\n",
       "      <th>User ID</th>\n",
       "      <th>Time</th>\n",
       "      <th>History</th>\n",
       "      <th>Impressions</th>\n",
       "    </tr>\n",
       "  </thead>\n",
       "  <tbody>\n",
       "  </tbody>\n",
       "</table>\n",
       "</div>"
      ],
      "text/plain": [
       "Empty DataFrame\n",
       "Columns: [Impression ID, User ID, Time, History, Impressions]\n",
       "Index: []"
      ]
     },
     "execution_count": 18,
     "metadata": {},
     "output_type": "execute_result"
    }
   ],
   "source": [
    "behaviours_raw_data[behaviours_raw_data['Impressions'].isna()]"
   ]
  },
  {
   "cell_type": "code",
   "execution_count": 19,
   "id": "9221136c-33d7-4e64-8933-ecf01566760c",
   "metadata": {},
   "outputs": [
    {
     "data": {
      "text/html": [
       "<div>\n",
       "<style scoped>\n",
       "    .dataframe tbody tr th:only-of-type {\n",
       "        vertical-align: middle;\n",
       "    }\n",
       "\n",
       "    .dataframe tbody tr th {\n",
       "        vertical-align: top;\n",
       "    }\n",
       "\n",
       "    .dataframe thead th {\n",
       "        text-align: right;\n",
       "    }\n",
       "</style>\n",
       "<table border=\"1\" class=\"dataframe\">\n",
       "  <thead>\n",
       "    <tr style=\"text-align: right;\">\n",
       "      <th></th>\n",
       "      <th>Impression ID</th>\n",
       "      <th>User ID</th>\n",
       "      <th>Time</th>\n",
       "      <th>History</th>\n",
       "      <th>Impressions</th>\n",
       "    </tr>\n",
       "  </thead>\n",
       "  <tbody>\n",
       "  </tbody>\n",
       "</table>\n",
       "</div>"
      ],
      "text/plain": [
       "Empty DataFrame\n",
       "Columns: [Impression ID, User ID, Time, History, Impressions]\n",
       "Index: []"
      ]
     },
     "execution_count": 19,
     "metadata": {},
     "output_type": "execute_result"
    }
   ],
   "source": [
    "behaviours_raw_data[behaviours_raw_data['Time'].isna()]"
   ]
  },
  {
   "cell_type": "markdown",
   "id": "19d0d7c8-797c-4213-becb-de27a9bfc278",
   "metadata": {},
   "source": [
    "- No NaN or null values in Impressions and Time columns\n",
    "- 3238 users have History NaN values. But for these users, impressions are available so, cannot drop them at this stage.\n",
    "- There are 50000 unique users in 156965 samples (of behaviour data).\n",
    "- 156965 samples includes users data for different impressions but each user has its own history. Same user might have different impression (so different sample)~~but would have same history. If we are to use a method only based on history so, we can group users. Then we would be left with 50000 samples(unique users).\n",
    "      - In this grouped users data (50000 samples(unique users)), there might be NaN values in it.~~"
   ]
  },
  {
   "cell_type": "markdown",
   "id": "6d7fd8a6-e065-415d-9f7e-c278c7469b88",
   "metadata": {
    "jp-MarkdownHeadingCollapsed": true
   },
   "source": [
    "### Exploratory analysis"
   ]
  },
  {
   "cell_type": "code",
   "execution_count": 20,
   "id": "9696e7a2-a05c-4eef-a085-35156a3928f5",
   "metadata": {},
   "outputs": [
    {
     "data": {
      "image/png": "[encoded data removed]",
      "text/plain": [
       "<Figure size 1000x500 with 1 Axes>"
      ]
     },
     "metadata": {},
     "output_type": "display_data"
    }
   ],
   "source": [
    "# articles per category/ sub category\n",
    "# To check (data is balanced) if no. of news articles are balanced over all categories\n",
    "from collections import Counter\n",
    "count = Counter(news_raw_data['Category'])\n",
    "count = pd.Series(count).sort_values(ascending=False)\n",
    "keys = list(count.keys())\n",
    "\n",
    "fig = plt.figure(figsize = (10, 5))\n",
    "plt.bar(keys, count, color ='maroon', width = 0.5,)\n",
    " \n",
    "plt.xlabel(\"Category\")\n",
    "plt.ylabel(\"No. of news articles\")\n",
    "plt.show()"
   ]
  },
  {
   "cell_type": "code",
   "execution_count": 21,
   "id": "8555d5e3-3d3e-4c7b-98ee-231eefa9496f",
   "metadata": {},
   "outputs": [
    {
     "name": "stdout",
     "output_type": "stream",
     "text": [
      "Number of sub categories: 264\n"
     ]
    }
   ],
   "source": [
    "print('Number of sub categories: {}'.format(len(news_raw_data['SubCategory'].unique())))"
   ]
  },
  {
   "cell_type": "code",
   "execution_count": null,
   "id": "6b3397bb-e9fe-459d-abfb-c1cc8751b10d",
   "metadata": {},
   "outputs": [],
   "source": []
  },
  {
   "cell_type": "code",
   "execution_count": 22,
   "id": "1122721d-2ef4-4683-bccf-23b75f6d230a",
   "metadata": {},
   "outputs": [],
   "source": [
    "# Number of articles clicked per user : average number of clicks per user\n",
    "# number of clicks per article (from history) : article most clicked\n",
    "# find number of articles which were not clicked by any user\n",
    "# time when most articles where clicked by each user or all users\n",
    "# https://www.kaggle.com/code/bhavnapatel2790/notebookdec438407b?source=post_page-----36a6f1da1b48--------------------------------"
   ]
  },
  {
   "cell_type": "code",
   "execution_count": null,
   "id": "0cd55f13-a37a-4433-a15c-20f94d047056",
   "metadata": {},
   "outputs": [],
   "source": []
  },
  {
   "cell_type": "markdown",
   "id": "8c9a9bba-a080-40e4-9e0a-c2ecbe4df5d7",
   "metadata": {},
   "source": [
    "### Prepare Data"
   ]
  },
  {
   "cell_type": "code",
   "execution_count": 23,
   "id": "1330653d-1e88-44ef-90aa-3eecfdb5f0ef",
   "metadata": {},
   "outputs": [],
   "source": [
    "behaviours_encoded_data = pd.DataFrame(behaviours_raw_data, columns=['Impression ID', 'User ID', 'Time', 'History', 'Impressions'])"
   ]
  },
  {
   "cell_type": "code",
   "execution_count": 24,
   "id": "a742754e-29be-432f-9dd5-05203e0bb10d",
   "metadata": {},
   "outputs": [
    {
     "name": "stdout",
     "output_type": "stream",
     "text": [
      "length of list_user_ids:  156965\n"
     ]
    }
   ],
   "source": [
    "# Index all users' IDs in behaviours.csv\n",
    "unique_users = behaviours_raw_data[\"User ID\"].unique()\n",
    "user_id_dic = {i : item for i, item in enumerate(unique_users)}\n",
    "user_keys = list(user_id_dic.keys())\n",
    "user_values = list(user_id_dic.values())\n",
    " \n",
    "list_user_ids = []\n",
    "for x in behaviours_raw_data[\"User ID\"]:\n",
    "    for i in range(len(user_values)):\n",
    "        if x == user_values[i]:\n",
    "            list_user_ids.append(user_keys[i])\n",
    "            break\n",
    "print(\"length of list_user_ids: \", len(list_user_ids))\n",
    "\n",
    "behaviours_encoded_data[\"User ID\"] = list_user_ids\n",
    "\n",
    "# userid_to_index = { userid: index for index, userid in enumerate(unique_users)}"
   ]
  },
  {
   "cell_type": "code",
   "execution_count": 25,
   "id": "3db4103a-8128-4a5f-a1a0-6e4093bfe65f",
   "metadata": {},
   "outputs": [],
   "source": [
    "# Index News articles in news.csv\n",
    "id_to_index = {news_id: index for index, news_id in enumerate(news_raw_data['News ID'])}\n",
    "\n",
    "# Index history\n",
    "history = behaviours_raw_data['History'].str.split()\n",
    "behaviours_encoded_data['History'] = history.apply(lambda x: [id_to_index[id] for id in x] if isinstance(x, list) else x)"
   ]
  },
  {
   "cell_type": "code",
   "execution_count": 26,
   "id": "8d334705-7ba1-453a-b933-4564364159d4",
   "metadata": {},
   "outputs": [],
   "source": [
    "# ref: https://www.kaggle.com/code/danielpleus/mind-recommender-from-scratch\n",
    "def process_impression(impression):\n",
    "    list_of_strgs = impression.split(\" \")\n",
    "    item_tuple = [l.split(\"-\") for l in list_of_strgs]\n",
    "    noclicks = []\n",
    "    clicks = []\n",
    "    \n",
    "    for item in item_tuple:\n",
    "        if item[1] =='0':\n",
    "            noclicks.append(item[0])\n",
    "        if item[1] =='1':\n",
    "            clicks.append(item[0])\n",
    "    return noclicks, clicks\n",
    "\n",
    "behaviours_encoded_data['Noclicks'], behaviours_encoded_data['Clicks'] = zip(*behaviours_raw_data['Impressions'].map(process_impression))\n",
    "\n",
    "behaviours_encoded_data['Noclicks'] = behaviours_encoded_data['Noclicks'].map(lambda list_of_strings: [id_to_index[id] for id in list_of_strings])\n",
    "behaviours_encoded_data['Clicks'] = behaviours_encoded_data['Clicks'].map(lambda list_of_strings: [id_to_index[id] for id in list_of_strings])"
   ]
  },
  {
   "cell_type": "code",
   "execution_count": 27,
   "id": "5aa8e89f-de96-4576-bd31-a75f61b88867",
   "metadata": {},
   "outputs": [],
   "source": [
    "# convert given time format to hours\n",
    "behaviours_encoded_data[\"Time\"] = pd.to_datetime(behaviours_raw_data['Time']).values.astype(np.int64)/(1e6)/1000/3600\n",
    "behaviours_encoded_data[\"Time\"] = behaviours_encoded_data[\"Time\"].round()\n",
    "\n",
    "# behaviours_encoded_data.explode(\"Clicks\").reset_index(drop=True)"
   ]
  },
  {
   "cell_type": "code",
   "execution_count": 28,
   "id": "75cc6aaf-0fce-4a5d-9d57-bd0890aeb0c7",
   "metadata": {},
   "outputs": [],
   "source": [
    "behaviours_encoded_data.to_csv(\"behaviours_encoded_data.tsv\", header=None)"
   ]
  },
  {
   "cell_type": "code",
   "execution_count": 29,
   "id": "8f49ff38-1d85-43b0-bf17-08800e66cbdc",
   "metadata": {},
   "outputs": [],
   "source": [
    "behaviours_encoded_data.to_pickle('test.df')"
   ]
  },
  {
   "cell_type": "code",
   "execution_count": 30,
   "id": "3d6eca99-ff2d-4528-9a3b-c24dc980dd7d",
   "metadata": {},
   "outputs": [],
   "source": [
    "# News data\n",
    "# Index News articles in news.csv\n",
    "newsids = [index for index, news_id in enumerate(news_raw_data['News ID'])]"
   ]
  },
  {
   "cell_type": "code",
   "execution_count": null,
   "id": "b4fdd5f5-eccb-4a1c-8414-596426e57fcc",
   "metadata": {},
   "outputs": [],
   "source": []
  },
  {
   "cell_type": "markdown",
   "id": "e0ae4b09-8d4b-45b2-b043-540ec04bdffd",
   "metadata": {
    "jp-MarkdownHeadingCollapsed": true
   },
   "source": [
    "### Collaborative filtering\n",
    "##### Memory-based\n",
    "- User-User\n",
    "- https://blog.cambridgespark.com/nowadays-recommender-systems-are-used-to-personalize-your-experience-on-the-web-telling-you-what-120f39b89c3c\n",
    "- Item-Item\n",
    "##### Model-based"
   ]
  },
  {
   "cell_type": "markdown",
   "id": "37d27dda-4fcb-4324-8110-81e08db060f3",
   "metadata": {},
   "source": [
    "#### User-based\n",
    "- User-based: find similarity among users based on users' history\n",
    "- Based on the assumption that people who agreed in the past will agree in the future, and that they will like similar kinds of items as they liked in the past.\n",
    "- user_item_history before all impressions\n"
   ]
  },
  {
   "cell_type": "code",
   "execution_count": 34,
   "id": "0ba583dc-3905-4f09-b54c-1fc8b5c2a4a9",
   "metadata": {},
   "outputs": [],
   "source": [
    "# Let us use the last 10pct of the data as our validation data:\n",
    "test_time_th = behaviours_encoded_data['Time'].quantile(0.9)\n",
    "behaviour_train = behaviours_encoded_data[behaviours_encoded_data['Time']< test_time_th]\n",
    "behaviour_valid =  behaviours_encoded_data[behaviours_encoded_data['Time']>= test_time_th]"
   ]
  },
  {
   "cell_type": "code",
   "execution_count": 223,
   "id": "2bb35ea4-04e5-484f-b229-493d0e110e08",
   "metadata": {},
   "outputs": [],
   "source": [
    "behaviour_valid = behaviour_valid.reset_index()"
   ]
  },
  {
   "cell_type": "code",
   "execution_count": 224,
   "id": "5eb56cf8-dac7-42cf-bf93-706fb81e2cf2",
   "metadata": {},
   "outputs": [
    {
     "name": "stdout",
     "output_type": "stream",
     "text": [
      "(140712, 7)\n",
      "(16253, 8)\n"
     ]
    }
   ],
   "source": [
    "print(behaviour_train.shape)\n",
    "print(behaviour_valid.shape)"
   ]
  },
  {
   "cell_type": "code",
   "execution_count": 225,
   "id": "4e458c80-ac72-4eb9-abda-73c0d1d25fc8",
   "metadata": {},
   "outputs": [
    {
     "name": "stdout",
     "output_type": "stream",
     "text": [
      "no. of unique History values:  48869\n",
      "no. of unique User ID values:  50000\n"
     ]
    }
   ],
   "source": [
    "print('no. of unique History values: ', len(behaviours_raw_data['History'].unique()))\n",
    "print('no. of unique User ID values: ', len(behaviours_raw_data['User ID'].unique()))"
   ]
  },
  {
   "cell_type": "markdown",
   "id": "441d32a7-44dd-491d-98f4-074692e02725",
   "metadata": {},
   "source": [
    "- should not drop duplicate users, history might be different for same user depending on the impression Id. As impression id is based on time (given in Time column)\n",
    "\n",
    "- So, I need to include clicked articles in the impression in the history\n",
    "- If an user has 3 impression ids then clicks of older impression ids should be included in History \n",
    "\n",
    "- Now I have No_clicks and Clicks column derived from impression column\n",
    "\n",
    "- So I can use Clicks column to update user_item_history matrix.\n",
    "- get all impressions of a user: check Clicks column value for them and then update in user_item_history matrix"
   ]
  },
  {
   "cell_type": "code",
   "execution_count": 226,
   "id": "b6123731-99ea-4c98-a78b-28edc86957fa",
   "metadata": {},
   "outputs": [
    {
     "name": "stdout",
     "output_type": "stream",
     "text": [
      "List of users (2836) in df_user_history that has no history: \n",
      "[28, 96, 155, 194, 358, 432, 648, 733, 858, 860]\n",
      "851\n"
     ]
    }
   ],
   "source": [
    "nan_history = behaviour_train['User ID'][behaviour_train['History'].isna()].to_list()\n",
    "print(\"List of users ({0}) in df_user_history that has no history: \\n{1}\".format(len(nan_history), nan_history[0:10]))\n",
    "print(len(set(nan_history)))"
   ]
  },
  {
   "cell_type": "code",
   "execution_count": 227,
   "id": "353fbc5b-9bc8-4855-8507-e077148570e0",
   "metadata": {},
   "outputs": [
    {
     "name": "stdout",
     "output_type": "stream",
     "text": [
      "List of users (402) in df_user_history that has no history: \n",
      "[257, 1104, 1795, 2195, 2701, 3252, 3313, 3427, 3313, 4223]\n",
      "851\n"
     ]
    }
   ],
   "source": [
    "nan_history_valid = behaviour_valid['User ID'][behaviour_valid['History'].isna()].to_list()\n",
    "print(\"List of users ({0}) in df_user_history that has no history: \\n{1}\".format(len(nan_history_valid), nan_history_valid[0:10]))\n",
    "print(len(set(nan_history)))"
   ]
  },
  {
   "cell_type": "code",
   "execution_count": 307,
   "id": "a8d3b527-d99b-4a88-88e4-49a8e77d731f",
   "metadata": {},
   "outputs": [
    {
     "name": "stdout",
     "output_type": "stream",
     "text": [
      "unique_users_train 47117\n",
      "unique_items in news.tsv 51282\n",
      "(47117, 51282)\n"
     ]
    }
   ],
   "source": [
    "# build user-item matrix using history and impressions\n",
    "unique_users_train = len(noNaN_behaviour_train['User ID'].unique())\n",
    "unique_items = len(newsids)\n",
    "print('unique_users_train', unique_users_train)\n",
    "print('unique_items in news.tsv', unique_items)\n",
    "\n",
    "user_item_history = np.zeros((unique_users_train, unique_items), dtype = int)\n",
    "print(user_item_history.shape)\n",
    "\n",
    "# whereever value is NaN, value in array is zero (we do change in user_item_history).\n",
    "for i in range(unique_users_train):\n",
    "    if isinstance(noNaN_behaviour_train['History'].iloc[i], list):\n",
    "        for item in noNaN_behaviour_train['History'].iloc[i]:\n",
    "            user_item_history[i][item] = 1\n",
    "    user = noNaN_behaviour_train['User ID'].iloc[i]\n",
    "    user_time_list = list(noNaN_behaviour_train['Time'][noNaN_behaviour_train['User ID']==user])\n",
    "    user_time_sorted = sorted(user_time_list, key = lambda x:float(x))\n",
    "    if not len(user_time_sorted) == 1:\n",
    "        for time in user_time_sorted:\n",
    "            for item in noNaN_behaviour_train['Clicks'][noNaN_behaviour_train['User ID']==user][noNaN_behaviour_train['Time']==time]:\n",
    "                user_item_history[i][item[0]] = 1"
   ]
  },
  {
   "cell_type": "code",
   "execution_count": 308,
   "id": "1064abc2-d8e1-4700-82b8-a57013fc06b5",
   "metadata": {},
   "outputs": [
    {
     "data": {
      "text/plain": [
       "(47117, 51282)"
      ]
     },
     "execution_count": 308,
     "metadata": {},
     "output_type": "execute_result"
    }
   ],
   "source": [
    "user_item_history.shape"
   ]
  },
  {
   "cell_type": "code",
   "execution_count": 309,
   "id": "011b7b0c-75cb-492e-8578-037b8f68716a",
   "metadata": {},
   "outputs": [
    {
     "data": {
      "text/plain": [
       "<47117x51282 sparse matrix of type '<class 'numpy.int64'>'\n",
       "\twith 1788053 stored elements in Compressed Sparse Row format>"
      ]
     },
     "execution_count": 309,
     "metadata": {},
     "output_type": "execute_result"
    }
   ],
   "source": [
    "user_item_history_sparse = csr_matrix(user_item_history)\n",
    "user_item_history_sparse"
   ]
  },
  {
   "cell_type": "code",
   "execution_count": null,
   "id": "6f804c0d-56d0-4fa0-994d-a60083f2aefb",
   "metadata": {},
   "outputs": [],
   "source": []
  }
 ],
 "metadata": {
  "kernelspec": {
   "display_name": "Python 3 (ipykernel)",
   "language": "python",
   "name": "python3"
  },
  "language_info": {
   "codemirror_mode": {
    "name": "ipython",
    "version": 3
   },
   "file_extension": ".py",
   "mimetype": "text/x-python",
   "name": "python",
   "nbconvert_exporter": "python",
   "pygments_lexer": "ipython3",
   "version": "3.12.2"
  }
 },
 "nbformat": 4,
 "nbformat_minor": 5
}
