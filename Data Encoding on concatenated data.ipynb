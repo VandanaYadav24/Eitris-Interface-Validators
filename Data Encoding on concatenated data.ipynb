{
 "cells": [
  {
   "cell_type": "code",
   "execution_count": 35,
   "id": "aec8ec2e-cf26-41bc-9d95-5f26c1bd8609",
   "metadata": {},
   "outputs": [],
   "source": [
    "import numpy as np\n",
    "import pandas as pd\n",
    "import matplotlib.pyplot as plt\n",
    "from scipy.sparse import csr_matrix\n",
    "from sklearn.metrics.pairwise import cosine_similarity\n",
    "from sklearn.neighbors import NearestNeighbors\n",
    "\n",
    "from sklearn.model_selection import train_test_split"
   ]
  },
  {
   "cell_type": "markdown",
   "id": "6e65b12a-55db-41c6-8744-880f9210ae14",
   "metadata": {},
   "source": [
    "### Load MIND train and MIND Dev set"
   ]
  },
  {
   "cell_type": "code",
   "execution_count": 2,
   "id": "f685912e-c23a-451d-846b-8b1365a16d85",
   "metadata": {},
   "outputs": [
    {
     "name": "stdout",
     "output_type": "stream",
     "text": [
      "Shape of news data:  (51282, 8)\n"
     ]
    }
   ],
   "source": [
    "news_train = pd.read_csv('Dataset/MINDsmall_train/news.tsv',sep='\\t', header=None)\n",
    "news_train = news_train.rename(columns={0:'News ID', 1:'Category', 2:'SubCategory', 3:'Title', 4:'Abstract', 5:'URL', 6:'Title Entities', 7:'Abstract Entities'})\n",
    "print(\"Shape of news data: \",news_train.shape)"
   ]
  },
  {
   "cell_type": "code",
   "execution_count": 3,
   "id": "41565056-4e48-4361-a3f3-b2bca310baf0",
   "metadata": {},
   "outputs": [
    {
     "name": "stdout",
     "output_type": "stream",
     "text": [
      "(156965, 5)\n"
     ]
    }
   ],
   "source": [
    "behaviours_train = pd.read_csv('Dataset/MINDsmall_train/behaviors.tsv',sep='\\t', header=None)\n",
    "print(behaviours_train.shape)"
   ]
  },
  {
   "cell_type": "code",
   "execution_count": 4,
   "id": "d01a1cd5-9461-43f5-bbb6-f80eb85421a6",
   "metadata": {},
   "outputs": [],
   "source": [
    "behaviours_train = behaviours_train.rename(columns={0:'Impression ID', 1:'User ID', 2:'Time', 3:'History', 4:'Impressions'})"
   ]
  },
  {
   "cell_type": "code",
   "execution_count": 5,
   "id": "dd87d540-199f-4d62-b806-52c537d19b43",
   "metadata": {},
   "outputs": [
    {
     "name": "stdout",
     "output_type": "stream",
     "text": [
      "Shape of news data:  (42416, 8)\n"
     ]
    }
   ],
   "source": [
    "news_valid = pd.read_csv('Dataset/MINDsmall_dev/news.tsv',sep='\\t', header=None)\n",
    "print(\"Shape of news data: \",news_valid.shape)\n",
    "\n",
    "news_valid = news_valid.rename(columns={0:'News ID', 1:'Category', 2:'SubCategory', 3:'Title', 4:'Abstract', 5:'URL', 6:'Title Entities', 7:'Abstract Entities'})"
   ]
  },
  {
   "cell_type": "code",
   "execution_count": 6,
   "id": "2743e75e-ab5e-463e-a608-e1e5498740e7",
   "metadata": {},
   "outputs": [
    {
     "name": "stdout",
     "output_type": "stream",
     "text": [
      "(73152, 5)\n"
     ]
    }
   ],
   "source": [
    "behaviours_valid = pd.read_csv('Dataset/MINDsmall_dev/behaviors.tsv',sep='\\t', header=None)\n",
    "print(behaviours_valid.shape)\n",
    "behaviours_valid = behaviours_valid.rename(columns={0:'Impression ID', 1:'User ID', 2:'Time', 3:'History', 4:'Impressions'})"
   ]
  },
  {
   "cell_type": "markdown",
   "id": "93bfc4b5-acb5-49a1-b2ed-f0b90a977088",
   "metadata": {},
   "source": [
    "##### Concatenate MIND train and MIND Dev"
   ]
  },
  {
   "cell_type": "code",
   "execution_count": 7,
   "id": "0e802209-1845-43ee-8603-e6296c1ee89b",
   "metadata": {},
   "outputs": [],
   "source": [
    "news_concat = pd.concat([news_train, news_valid], ignore_index=True)"
   ]
  },
  {
   "cell_type": "code",
   "execution_count": 8,
   "id": "761e9cb0-6f09-4219-bb90-a7d0c2b11773",
   "metadata": {},
   "outputs": [],
   "source": [
    "behaviours_concat = pd.concat([behaviours_train, behaviours_valid], ignore_index=True)"
   ]
  },
  {
   "cell_type": "markdown",
   "id": "d2ee06e8-e0f5-406e-b8df-2fe15014b0ce",
   "metadata": {},
   "source": [
    "##### Prepare data: encode concatenated behaviour data and news data"
   ]
  },
  {
   "cell_type": "code",
   "execution_count": 10,
   "id": "c764ee28-c925-4d22-8713-fff738a09ff4",
   "metadata": {},
   "outputs": [],
   "source": [
    "behaviours_encoded_concat = pd.DataFrame(behaviours_concat, columns=['Impression ID', 'User ID', 'Time', 'History', 'Impressions'])"
   ]
  },
  {
   "cell_type": "code",
   "execution_count": 11,
   "id": "ad82f55a-615a-4720-ba1a-bac5add3efaf",
   "metadata": {},
   "outputs": [
    {
     "name": "stdout",
     "output_type": "stream",
     "text": [
      "length of list_user_ids:  230117\n"
     ]
    }
   ],
   "source": [
    "# Index all users' IDs in behaviours.csv\n",
    "unique_users = behaviours_concat[\"User ID\"].unique()\n",
    "user_id_dic = {i : item for i, item in enumerate(unique_users)}\n",
    "user_keys = list(user_id_dic.keys())\n",
    "user_values = list(user_id_dic.values())\n",
    " \n",
    "list_user_ids = []\n",
    "for x in behaviours_concat[\"User ID\"]:\n",
    "    for i in range(len(user_values)):\n",
    "        if x == user_values[i]:\n",
    "            list_user_ids.append(user_keys[i])\n",
    "            break\n",
    "print(\"length of list_user_ids: \", len(list_user_ids))\n",
    "\n",
    "behaviours_encoded_concat[\"User ID\"] = list_user_ids\n",
    "\n",
    "# userid_to_index = { userid: index for index, userid in enumerate(unique_users)}"
   ]
  },
  {
   "cell_type": "code",
   "execution_count": 12,
   "id": "3fc64c3c-71e6-46ac-9997-8333401427a6",
   "metadata": {},
   "outputs": [],
   "source": [
    "# Index News articles in news.csv\n",
    "id_to_index = {news_id: index for index, news_id in enumerate(news_concat['News ID'])}\n",
    "\n",
    "# Index history\n",
    "history = behaviours_concat['History'].str.split()\n",
    "behaviours_encoded_concat['History'] = history.apply(lambda x: [id_to_index[id] for id in x] if isinstance(x, list) else x)"
   ]
  },
  {
   "cell_type": "code",
   "execution_count": null,
   "id": "a42361d5-d20f-42ac-9d16-36dd44bee8a0",
   "metadata": {},
   "outputs": [],
   "source": []
  },
  {
   "cell_type": "code",
   "execution_count": 13,
   "id": "7b057375-6ce5-435d-bfce-739f6ce54612",
   "metadata": {},
   "outputs": [],
   "source": [
    "# ref: https://www.kaggle.com/code/danielpleus/mind-recommender-from-scratch\n",
    "def process_impression(impression):\n",
    "    list_of_strgs = impression.split(\" \")\n",
    "    item_tuple = [l.split(\"-\") for l in list_of_strgs]\n",
    "    noclicks = []\n",
    "    clicks = []\n",
    "    \n",
    "    for item in item_tuple:\n",
    "        if item[1] =='0':\n",
    "            noclicks.append(item[0])\n",
    "        if item[1] =='1':\n",
    "            clicks.append(item[0])\n",
    "    return noclicks, clicks\n",
    "\n",
    "behaviours_encoded_concat['Noclicks'], behaviours_encoded_concat['Clicks'] = zip(*behaviours_concat['Impressions'].map(process_impression))\n",
    "\n",
    "behaviours_encoded_concat['Noclicks'] = behaviours_encoded_concat['Noclicks'].map(lambda list_of_strings: [id_to_index[id] for id in list_of_strings])\n",
    "behaviours_encoded_concat['Clicks'] = behaviours_encoded_concat['Clicks'].map(lambda list_of_strings: [id_to_index[id] for id in list_of_strings])"
   ]
  },
  {
   "cell_type": "code",
   "execution_count": 20,
   "id": "2dc1b823-b4c5-4963-99ca-9dc0e58a32b1",
   "metadata": {},
   "outputs": [],
   "source": [
    "# convert given time format to hours\n",
    "behaviours_encoded_concat[\"Time\"] = pd.to_datetime(behaviours_concat['Time']).values.astype(np.int64)/(1e6)/1000/3600\n",
    "behaviours_encoded_concat[\"Time\"] = behaviours_encoded_concat[\"Time\"].round()\n",
    "\n",
    "# behaviours_encoded_concat.explode(\"Clicks\").reset_index(drop=True)"
   ]
  },
  {
   "cell_type": "code",
   "execution_count": 22,
   "id": "0d7e1df1-fa0d-4864-95ac-bc6af6d8ca8c",
   "metadata": {},
   "outputs": [],
   "source": [
    "behaviours_encoded_concat.to_pickle('behaviours_encoded_concat.df')"
   ]
  },
  {
   "cell_type": "markdown",
   "id": "b6c5fa5b-1eda-4010-ab73-c14a2dd1302e",
   "metadata": {},
   "source": [
    "### Sp"
   ]
  },
  {
   "cell_type": "code",
   "execution_count": 26,
   "id": "0fb45b63-29be-465b-a375-a8ff1550d7f8",
   "metadata": {},
   "outputs": [],
   "source": [
    "# Let us use the last 0.1 of the data as our validation data using quantile:\n",
    "test_time_th = behaviours_encoded_concat['Time'].quantile(0.9)\n",
    "behaviour_encoded_train = behaviours_encoded_concat[behaviours_encoded_concat['Time']< test_time_th]\n",
    "behaviour_encoded_valid =  behaviours_encoded_concat[behaviours_encoded_concat['Time']>= test_time_th]"
   ]
  },
  {
   "cell_type": "code",
   "execution_count": 33,
   "id": "b9471c37-01b8-41dd-83ce-8d8c36406eae",
   "metadata": {},
   "outputs": [],
   "source": [
    "behaviour_encoded_train.to_pickle('behaviour_encoded_train.df')"
   ]
  },
  {
   "cell_type": "code",
   "execution_count": 34,
   "id": "f68f2be5-478b-404e-a4bc-fff340c9d79c",
   "metadata": {},
   "outputs": [],
   "source": [
    "behaviour_encoded_valid.to_pickle('behaviour_encoded_valid.df')"
   ]
  },
  {
   "cell_type": "code",
   "execution_count": 30,
   "id": "85d2ef3c-68b8-421b-82ae-842094f3f1c2",
   "metadata": {},
   "outputs": [
    {
     "data": {
      "text/plain": [
       "81336"
      ]
     },
     "execution_count": 30,
     "metadata": {},
     "output_type": "execute_result"
    }
   ],
   "source": [
    "len(behaviour_encoded_train['User ID'].unique())"
   ]
  },
  {
   "cell_type": "code",
   "execution_count": 38,
   "id": "faf81e85-c8d4-49b9-9c1b-4cfb18d42b77",
   "metadata": {},
   "outputs": [
    {
     "data": {
      "text/plain": [
       "(204082, 7)"
      ]
     },
     "execution_count": 38,
     "metadata": {},
     "output_type": "execute_result"
    }
   ],
   "source": [
    "behaviour_encoded_train.shape"
   ]
  },
  {
   "cell_type": "code",
   "execution_count": 31,
   "id": "25fb54f6-00e2-4c05-a7c7-f78b414fba9f",
   "metadata": {},
   "outputs": [],
   "source": [
    "# News data\n",
    "# Index News articles in news.csv\n",
    "newsids = [index for index, news_id in enumerate(news_concat['News ID'])]"
   ]
  },
  {
   "cell_type": "code",
   "execution_count": 39,
   "id": "ffb9c64f-0b5a-409c-b6b2-4613528cb54b",
   "metadata": {},
   "outputs": [],
   "source": [
    "newsid_encoded_concat = pd.DataFrame(newsids)"
   ]
  },
  {
   "cell_type": "code",
   "execution_count": null,
   "id": "c7fc51ff-7e23-4392-a8d6-6bb14f5ceb2b",
   "metadata": {},
   "outputs": [],
   "source": []
  },
  {
   "cell_type": "code",
   "execution_count": 46,
   "id": "6ea8f3bc-7955-46c0-9db0-22c44f43a0f7",
   "metadata": {},
   "outputs": [],
   "source": [
    "newsid_encoded_concat.to_pickle('newsid_encoded_concat.df')"
   ]
  },
  {
   "cell_type": "code",
   "execution_count": 47,
   "id": "454148c3-eaee-4828-9273-f06568f6bcbc",
   "metadata": {},
   "outputs": [],
   "source": [
    "newsid_encoded_train, newsid_encoded_valid = train_test_split(news_concat, test_size=0.1)"
   ]
  },
  {
   "cell_type": "code",
   "execution_count": 48,
   "id": "0f8ac66f-9dbd-4c0d-8333-91d34c8e750c",
   "metadata": {},
   "outputs": [
    {
     "data": {
      "text/plain": [
       "(84328, 8)"
      ]
     },
     "execution_count": 48,
     "metadata": {},
     "output_type": "execute_result"
    }
   ],
   "source": [
    "newsid_encoded_train.shape"
   ]
  },
  {
   "cell_type": "code",
   "execution_count": 49,
   "id": "6d46cb7a-990d-495b-a16a-8f26a383803d",
   "metadata": {},
   "outputs": [],
   "source": [
    "newsid_encoded_train.to_pickle('newsid_encoded_train.df')\n",
    "newsid_encoded_valid.to_pickle('newsid_encoded_valid.df')"
   ]
  },
  {
   "cell_type": "code",
   "execution_count": null,
   "id": "f1a0d1e6-20b8-44ac-a454-f4ee155569e5",
   "metadata": {},
   "outputs": [],
   "source": []
  }
 ],
 "metadata": {
  "kernelspec": {
   "display_name": "Python 3 (ipykernel)",
   "language": "python",
   "name": "python3"
  },
  "language_info": {
   "codemirror_mode": {
    "name": "ipython",
    "version": 3
   },
   "file_extension": ".py",
   "mimetype": "text/x-python",
   "name": "python",
   "nbconvert_exporter": "python",
   "pygments_lexer": "ipython3",
   "version": "3.12.2"
  }
 },
 "nbformat": 4,
 "nbformat_minor": 5
}
